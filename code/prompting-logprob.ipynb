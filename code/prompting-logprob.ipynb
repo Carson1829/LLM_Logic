{
 "cells": [
  {
   "cell_type": "code",
   "execution_count": null,
   "metadata": {},
   "outputs": [],
   "source": [
    "from minicons import scorer\n",
    "import pandas as pd\n",
    "import random"
   ]
  },
  {
   "cell_type": "code",
   "execution_count": 62,
   "metadata": {},
   "outputs": [
    {
     "name": "stdout",
     "output_type": "stream",
     "text": [
      "model successfully loaded.\n"
     ]
    }
   ],
   "source": [
    "try:\n",
    "  ilm_model = scorer.IncrementalLMScorer('gpt2-large', 'cpu')\n",
    "  # ilm_model = scorer.IncrementalLMScorer('roberta-base', 'cpu')\n",
    "  # ilm_model = scorer.IncrementalLMScorer('xlnet-base-cased', 'cpu')\n",
    "  print(\"model successfully loaded.\")\n",
    "except Exception as e:\n",
    "    print(\"model loading error:\", e)"
   ]
  },
  {
   "cell_type": "code",
   "execution_count": null,
   "metadata": {},
   "outputs": [],
   "source": [
    "# CSV path (change accordingly)\n",
    "csv_path = \"lungu_scale_test.csv\" \n",
    "stimuli_list = []\n",
    "fields = ['Instructions', 'Condition', 'Study', 'Type', 'Proposition', 'NAND', 'NOR', 'Positive AND']  # Columns used in CSV\n",
    "row_order = 1\n",
    " \n",
    "# Reading CSV to dataframe\n",
    "stimuli_df = pd.read_csv(csv_path, usecols=fields)\n",
    "for _, row in stimuli_df.iterrows():\n",
    "    stimulis = {}\n",
    "\n",
    "    if (row['Condition'] == \"Control\"):\n",
    "        text_parts = [row['Instructions'], row['Proposition']]\n",
    "    \n",
    "    else:\n",
    "        # Getting continuations \n",
    "        conts = {\"NAND\":row[\"NAND\"], \"NOR\":row[\"NOR\"], \"Contradictory\":row[\"Positive AND\"]}\n",
    "\n",
    "        # Creating stimuli sequences\n",
    "        for key, value in conts.items():\n",
    "            text_parts = [row['Proposition'], value]\n",
    "            stimulis[key] = ' '.join(filter(None, text_parts))\n",
    "\n",
    "    # Other info about stimulus\n",
    "    stimulis[\"condition\"] = row['Condition']\n",
    "    stimulis[\"study\"] = row['Study']\n",
    "    stimulis[\"type\"] = row['Type']\n",
    "    stimulis[\"order\"] = row_order\n",
    "    row_order += 1\n",
    "    \n",
    "    stimuli_list.append(stimulis)\n",
    "\n",
    "random.shuffle(stimuli_list)\n",
    "\n",
    "print(f\"Found {len(stimuli_list)} sets of stimuli in the given CSV file.\")"
   ]
  },
  {
   "cell_type": "code",
   "execution_count": null,
   "metadata": {},
   "outputs": [],
   "source": [
    "outputs = []\n",
    "\n",
    "# Scoring and comparing each set of sequences for stimuli in stimuli list\n",
    "for stimuli in stimuli_list:\n",
    "    print(stimuli['NAND'])\n",
    "    print(stimuli['NOR'])\n",
    "\n",
    "    sequences = [stimuli['NAND'],\n",
    "            stimuli['NOR']]\n",
    "\n",
    "    # use sequence_score with different reduction options: \n",
    "    # Sequence Surprisal - lambda x: -x.sum(0).item()\n",
    "    # Sequence Log-probability - lambda x: x.sum(0).item()\n",
    "    # Sequence Surprisal, normalized by number of tokens - lambda x: -x.mean(0).item()\n",
    "    # Sequence Log-probability, normalized by number of tokens - lambda x: x.mean(0).item()\n",
    "    # and so on...\n",
    "\n",
    "    # Calculate log-probabilities for each sequence\n",
    "    scores = ilm_model.sequence_score(sequences, reduction=lambda x: x.mean(0).item())\n",
    "\n",
    "    score1, score2 = scores  # Extract scores for each sequence\n",
    "\n",
    "    print(f\"NAND: {score1} NOR: {score2}\")\n",
    "\n",
    "    if score1 > score2:\n",
    "        print(\"First sequence makes more sense.\")\n",
    "        outputs.append('NAND')\n",
    "    else:\n",
    "        print(\"Second sequence makes more sense.\")\n",
    "        outputs.append('NOR')\n"
   ]
  },
  {
   "cell_type": "code",
   "execution_count": null,
   "metadata": {},
   "outputs": [],
   "source": [
    "df = pd.DataFrame({\"Stimuli Wide (NAND)\": [stimulis[\"NAND\"] for stimulis in stimuli_list], \n",
    "                   \"Stimuli Narrow (NOR)\": [stimulis[\"NOR\"] for stimulis in stimuli_list],\n",
    "                   \"Condition\": [stimulis[\"condition\"] for stimulis in stimuli_list],\n",
    "                   \"Study\": [stimulis[\"study\"] for stimulis in stimuli_list],\n",
    "                   \"Type\": [stimulis[\"type\"] for stimulis in stimuli_list],\n",
    "                   \"Original order\": [stimulis[\"order\"] for stimulis in stimuli_list],\n",
    "                   \"Higher LogProb\": outputs})\n",
    "\n",
    "# Save the DataFrame to a CSV file\n",
    "output_csv_path = \"responses_logprob_gpt2large.csv\"\n",
    "df.to_csv(output_csv_path, index=False)\n",
    "\n",
    "print(f\"Responses saved to {output_csv_path}\")"
   ]
  }
 ],
 "metadata": {
  "language_info": {
   "name": "python"
  }
 },
 "nbformat": 4,
 "nbformat_minor": 2
}
