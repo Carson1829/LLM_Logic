{
 "cells": [
  {
   "cell_type": "code",
   "execution_count": 1,
   "metadata": {},
   "outputs": [
    {
     "name": "stderr",
     "output_type": "stream",
     "text": [
      "C:\\Users\\Carson\\AppData\\Local\\Temp\\ipykernel_1396\\567095396.py:1: DeprecationWarning: \n",
      "Pyarrow will become a required dependency of pandas in the next major release of pandas (pandas 3.0),\n",
      "(to allow more performant data types, such as the Arrow string type, and better interoperability with other libraries)\n",
      "but was not found to be installed on your system.\n",
      "If this would cause problems for you,\n",
      "please provide us feedback at https://github.com/pandas-dev/pandas/issues/54466\n",
      "        \n",
      "  import pandas as pd\n"
     ]
    },
    {
     "ename": "ModuleNotFoundError",
     "evalue": "No module named 'transformers'",
     "output_type": "error",
     "traceback": [
      "\u001b[1;31m---------------------------------------------------------------------------\u001b[0m",
      "\u001b[1;31mModuleNotFoundError\u001b[0m                       Traceback (most recent call last)",
      "Cell \u001b[1;32mIn[1], line 4\u001b[0m\n\u001b[0;32m      2\u001b[0m \u001b[38;5;28;01mimport\u001b[39;00m \u001b[38;5;21;01mrandom\u001b[39;00m\n\u001b[0;32m      3\u001b[0m \u001b[38;5;28;01mimport\u001b[39;00m \u001b[38;5;21;01mtorch\u001b[39;00m\n\u001b[1;32m----> 4\u001b[0m \u001b[38;5;28;01mfrom\u001b[39;00m \u001b[38;5;21;01mtransformers\u001b[39;00m \u001b[38;5;28;01mimport\u001b[39;00m LlamaForCausalLM, LlamaTokenizer, pipeline\n\u001b[0;32m      6\u001b[0m model_name \u001b[38;5;241m=\u001b[39m \u001b[38;5;124m\"\u001b[39m\u001b[38;5;124mhuggingface/llama-7b\u001b[39m\u001b[38;5;124m\"\u001b[39m\n\u001b[0;32m      8\u001b[0m \u001b[38;5;28;01mtry\u001b[39;00m:\n",
      "\u001b[1;31mModuleNotFoundError\u001b[0m: No module named 'transformers'"
     ]
    }
   ],
   "source": [
    "import pandas as pd\n",
    "import random\n",
    "import torch\n",
    "from transformers import LlamaForCausalLM, LlamaTokenizer, pipeline\n",
    "\n",
    "model_name = \"huggingface/llama-7b\"\n",
    "\n",
    "try:\n",
    "    tokenizer = LlamaTokenizer.from_pretrained(model_name)\n",
    "    model = LlamaForCausalLM.from_pretrained(model_name)\n",
    "    print(\"model and tokenizer loaded successfully.\")\n",
    "except Exception as e:\n",
    "    print(f\"An error occurred: {e}\")\n",
    "\n",
    "text_generation_pipeline = pipeline(\n",
    "    \"text-generation\",\n",
    "    model=model,\n",
    "    tokenizer=tokenizer,\n",
    "    torch_dtype=torch.float16,\n",
    "    device_map=\"auto\",\n",
    ")"
   ]
  },
  {
   "cell_type": "code",
   "execution_count": null,
   "metadata": {},
   "outputs": [],
   "source": [
    "# CSV path (change accordingly)\n",
    "csv_path = \"lungu_scale_updated.csv\" \n",
    "prompts = []\n",
    "fields = ['Instructions', 'Condition', 'Study', 'Type', 'Proposition', 'NAND', 'NOR', 'Positive AND']  # Columns used in CSV\n",
    "row_order = 1\n",
    " \n",
    "# Reading CSV to dataframe\n",
    "prompts_df = pd.read_csv(csv_path, usecols=fields)\n",
    "for _, row in prompts_df.iterrows():\n",
    "    prompt = {}\n",
    "\n",
    "    if (row['Condition'] == \"Control\"):\n",
    "        text_parts = [row['Instructions'], row['Proposition']]\n",
    "    \n",
    "    else:\n",
    "        # Check if either \"NAND\" or \"NOR\" or \"AND\" exists in the row\n",
    "        choices = {\"NAND\":row[\"NAND\"], \"NOR\":row[\"NOR\"], \"Contradictory\":row[\"Positive AND\"]}\n",
    "        available_choices = {key: value for key, value in choices.items() if not pd.isna(value)}\n",
    "\n",
    "        if available_choices:\n",
    "            # Randomly choose one from available choices\n",
    "            chosen_column, content = random.choice(list(available_choices.items()))\n",
    "        else:\n",
    "            chosen_column, content = '', ''  # \"Control\" rows without continuations \"A\" or \"B\" or \"C\"\n",
    "\n",
    "        text_parts = [row['Instructions'], row['Proposition'], str(content)]\n",
    "        \n",
    "    # Filter out empty strings before joining\n",
    "    prompt[\"text\"] = ' '.join(filter(None, text_parts))\n",
    "    prompt[\"condition\"] = row['Condition']\n",
    "    prompt[\"study\"] = row['Study']\n",
    "    prompt[\"type\"] = row['Type']\n",
    "    if chosen_column:\n",
    "        prompt[\"choice\"] = chosen_column\n",
    "    else:\n",
    "        prompt[\"choice\"] = \"none\"\n",
    "    \n",
    "    prompt[\"order\"] = row_order\n",
    "    row_order += 1\n",
    "    prompts.append(prompt)\n",
    "\n",
    "random.shuffle(prompts)\n",
    "\n",
    "print(f\"Found {len(prompts)} prompts in the given CSV file.\")"
   ]
  },
  {
   "cell_type": "code",
   "execution_count": null,
   "metadata": {},
   "outputs": [],
   "source": [
    "outputs = []\n",
    "\n",
    "# Function to generate responses using the chosen model\n",
    "def generate_response(prompt_text):\n",
    "    system_message = \"If prompted to respond with a number on a scale, only respond with the whole number. For example, only respond with '6' if you believe it is 6 on the scale. Do not give any explanations. Interpret both sentences together, not separately.\"\n",
    "    user_message = prompt_text\n",
    "\n",
    "    # Combine system and user messages into a single string\n",
    "    combined_prompt = f\"{system_message}\\nUser: {user_message}\\n\"\n",
    "\n",
    "    inputs = tokenizer(combined_prompt, return_tensors=\"pt\")\n",
    "    outputs = model.generate(inputs[\"input_ids\"], max_length=50, num_return_sequences=1)\n",
    "    response = tokenizer.decode(outputs[0], skip_special_tokens=True)\n",
    "\n",
    "    # response = text_generation_pipeline(combined_prompt, max_length=50, num_return_sequences=1)\n",
    "    return response # response[0]['generated_text']\n",
    "\n",
    "# Generate responses\n",
    "for prompt in prompts:\n",
    "    answer = generate_response(prompt[\"text\"])\n",
    "    outputs.append(answer)\n",
    "\n",
    "print(\"messages generated\")\n"
   ]
  },
  {
   "cell_type": "code",
   "execution_count": null,
   "metadata": {},
   "outputs": [],
   "source": [
    "df = pd.DataFrame({\"Prompt\": [prompt[\"text\"] for prompt in prompts], \n",
    "                   \"Continuation\": [prompt[\"choice\"] for prompt in prompts], \n",
    "                   \"Condition\": [prompt[\"condition\"] for prompt in prompts],\n",
    "                   \"Study\": [prompt[\"study\"] for prompt in prompts],\n",
    "                   \"Type\": [prompt[\"type\"] for prompt in prompts],\n",
    "                   \"Original order\": [prompt[\"order\"] for prompt in prompts],\n",
    "                   \"Response\": outputs})\n",
    "\n",
    "# Save the DataFrame to a CSV file\n",
    "output_csv_path = \"output_responses_llama.csv\"\n",
    "df.to_csv(output_csv_path, index=False)\n",
    "\n",
    "print(f\"Responses saved to {output_csv_path}\")"
   ]
  }
 ],
 "metadata": {
  "kernelspec": {
   "display_name": "Python 3",
   "language": "python",
   "name": "python3"
  },
  "language_info": {
   "codemirror_mode": {
    "name": "ipython",
    "version": 3
   },
   "file_extension": ".py",
   "mimetype": "text/x-python",
   "name": "python",
   "nbconvert_exporter": "python",
   "pygments_lexer": "ipython3",
   "version": "3.12.2"
  }
 },
 "nbformat": 4,
 "nbformat_minor": 2
}
