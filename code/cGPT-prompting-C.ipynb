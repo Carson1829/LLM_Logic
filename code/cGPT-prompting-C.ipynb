{
 "cells": [
  {
   "cell_type": "code",
   "execution_count": 1,
   "metadata": {},
   "outputs": [],
   "source": [
    "import openai \n",
    "import random\n",
    "import pandas as pd\n",
    "\n",
    "# Determine the model: can be gpt-3.5-turbo or gpt-4\n",
    "model_name = \"gpt-3.5-turbo\""
   ]
  },
  {
   "cell_type": "code",
   "execution_count": 2,
   "metadata": {},
   "outputs": [
    {
     "name": "stdout",
     "output_type": "stream",
     "text": [
      "API key successfully loaded.\n"
     ]
    }
   ],
   "source": [
    "try:\n",
    "  api_key = \"INSERT KEY\" # Add API key\n",
    "  openai.api_key = api_key\n",
    "  print(\"API key successfully loaded.\")\n",
    "except:\n",
    "  print(\"No API key file found.\")"
   ]
  },
  {
   "cell_type": "code",
   "execution_count": 3,
   "metadata": {},
   "outputs": [
    {
     "name": "stdout",
     "output_type": "stream",
     "text": [
      "Found 8 prompts in the given CSV file.\n"
     ]
    }
   ],
   "source": [
    "# CSV path (change accordingly)\n",
    "csv_path = \"test_C.csv\" \n",
    "prompts = []\n",
    "fields = ['Instructions', 'Condition', 'Study', 'Type', 'Proposition', 'NAND', 'NOR', 'Positive AND']  # Columns used in CSV\n",
    "\n",
    "# Reading CSV to dataframe\n",
    "prompts_df = pd.read_csv(csv_path, usecols=fields)\n",
    "\n",
    "for _, row in prompts_df.iterrows():\n",
    "    prompt = {}\n",
    "\n",
    "    # Check if either \"A\" or \"B\" exists in the row\n",
    "    choices = {\"NAND\":row[\"NAND\"], \"NOR\":row[\"NOR\"], \"Contradictory\":row[\"Positive AND\"]}\n",
    "    \n",
    "    text_parts = [row['Instructions'], row['Proposition']]\n",
    "\n",
    "    \n",
    "    # Shuffle the keys of choices\n",
    "    shuffled_keys = list(choices.keys())\n",
    "    random.shuffle(shuffled_keys)\n",
    "\n",
    "    labels = [\"A\", \"B\", \"C\"]\n",
    "\n",
    "    # Iterate through shuffled keys and assign values to text_parts\n",
    "    contradictory_index = None\n",
    "    for label, key in zip(labels, shuffled_keys):\n",
    "        if key == \"Contradictory\":\n",
    "            contradictory_index = len(text_parts)\n",
    "            contradictory_label = label\n",
    "        text_parts.extend([label + \":\", choices[key]])\n",
    "    \n",
    "    # Filter out empty strings before joining\n",
    "    prompt[\"text\"] = ' '.join(filter(None, text_parts))\n",
    "    prompt[\"condition\"] = row['Condition']\n",
    "    prompt[\"study\"] = row['Study']\n",
    "    prompt[\"type\"] = row['Type']\n",
    "    prompt[\"contrar\"] = contradictory_label\n",
    "    \n",
    "    prompts.append(prompt)\n",
    "\n",
    "random.shuffle(prompts)\n",
    "\n",
    "print(f\"Found {len(prompts)} prompts in the given CSV file.\")"
   ]
  },
  {
   "cell_type": "code",
   "execution_count": 4,
   "metadata": {},
   "outputs": [
    {
     "name": "stdout",
     "output_type": "stream",
     "text": [
      "Messages generated with 821 tokens\n"
     ]
    }
   ],
   "source": [
    "outputs = []\n",
    "total_tokens = 0\n",
    "\n",
    "# Calling chatGPT and appending responses to outputs list\n",
    "for prompt in prompts:\n",
    "  response = openai.ChatCompletion.create(\n",
    "                model=model_name,\n",
    "                messages=[\n",
    "                      {\"role\": \"system\", \"content\": \"Respond with only either 'A', 'B', or 'C' and nothing else.\"},\n",
    "                      {\"role\": \"user\", \"content\": prompt[\"text\"]},\n",
    "                  ]\n",
    "              )\n",
    "  gpt_answer = response['choices'][0]['message']['content']\n",
    "  outputs.append(gpt_answer)\n",
    "\n",
    "  total_tokens += response[\"usage\"][\"total_tokens\"]\n",
    "\n",
    "print(f\"Messages generated with {total_tokens} tokens\")"
   ]
  },
  {
   "cell_type": "code",
   "execution_count": 5,
   "metadata": {},
   "outputs": [
    {
     "name": "stdout",
     "output_type": "stream",
     "text": [
      "Responses saved to output_responses_C.csv\n"
     ]
    }
   ],
   "source": [
    "df = pd.DataFrame({\"Prompt\": [prompt[\"text\"] for prompt in prompts],  \n",
    "                   \"Condition\": [prompt[\"condition\"] for prompt in prompts],\n",
    "                   \"Study\": [prompt[\"study\"] for prompt in prompts],\n",
    "                   \"Type\": [prompt[\"type\"] for prompt in prompts],\n",
    "                   \"Contradictory_cont\": [prompt[\"contrar\"] for prompt in prompts],\n",
    "                   \"Response\": outputs})\n",
    "\n",
    "# Save the DataFrame to a CSV file\n",
    "output_csv_path = \"output_responses_C.csv\"\n",
    "df.to_csv(output_csv_path, index=False)\n",
    "\n",
    "print(f\"Responses saved to {output_csv_path}\")"
   ]
  }
 ],
 "metadata": {
  "kernelspec": {
   "display_name": "Python 3",
   "language": "python",
   "name": "python3"
  },
  "language_info": {
   "codemirror_mode": {
    "name": "ipython",
    "version": 3
   },
   "file_extension": ".py",
   "mimetype": "text/x-python",
   "name": "python",
   "nbconvert_exporter": "python",
   "pygments_lexer": "ipython3",
   "version": "3.11.7"
  }
 },
 "nbformat": 4,
 "nbformat_minor": 2
}
