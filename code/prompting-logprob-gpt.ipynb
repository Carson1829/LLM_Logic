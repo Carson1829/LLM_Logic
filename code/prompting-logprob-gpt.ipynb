{
 "cells": [
  {
   "cell_type": "code",
   "execution_count": null,
   "metadata": {},
   "outputs": [],
   "source": [
    "import openai\n",
    "import pandas as pd\n",
    "import random"
   ]
  },
  {
   "cell_type": "code",
   "execution_count": null,
   "metadata": {},
   "outputs": [],
   "source": [
    "try:\n",
    "  api_key = \"INSERT KEY\" # Add API key\n",
    "  openai.api_key = api_key\n",
    "  print(\"API key successfully loaded.\")\n",
    "except:\n",
    "  print(\"No API key file found.\")"
   ]
  },
  {
   "cell_type": "code",
   "execution_count": null,
   "metadata": {},
   "outputs": [],
   "source": [
    "# CSV path (change accordingly)\n",
    "csv_path = \"lungu_scale_test.csv\" \n",
    "stimuli_list = []\n",
    "fields = ['Instructions', 'Condition', 'Study', 'Type', 'Proposition', 'NAND', 'NOR', 'Positive AND']  # Columns used in CSV\n",
    "row_order = 1\n",
    " \n",
    "# Reading CSV to dataframe\n",
    "stimuli_df = pd.read_csv(csv_path, usecols=fields)\n",
    "for _, row in stimuli_df.iterrows():\n",
    "    stimulis = {}\n",
    "\n",
    "    if (row['Condition'] == \"Control\"):\n",
    "        text_parts = [row['Instructions'], row['Proposition']]\n",
    "    \n",
    "    else:\n",
    "        # Getting continuations \n",
    "        conts = {\"NAND\":row[\"NAND\"], \"NOR\":row[\"NOR\"], \"Contradictory\":row[\"Positive AND\"]}\n",
    "\n",
    "        # Creating stimuli sequences\n",
    "        for key, value in conts.items():\n",
    "            text_parts = [row['Proposition'], value]\n",
    "            stimulis[key] = ' '.join(filter(None, text_parts))\n",
    "\n",
    "    # Other info about stimulus\n",
    "    stimulis[\"condition\"] = row['Condition']\n",
    "    stimulis[\"study\"] = row['Study']\n",
    "    stimulis[\"type\"] = row['Type']\n",
    "    stimulis[\"order\"] = row_order\n",
    "    row_order += 1\n",
    "    \n",
    "    stimuli_list.append(stimulis)\n",
    "\n",
    "random.shuffle(stimuli_list)\n",
    "\n",
    "print(f\"Found {len(stimuli_list)} sets of stimuli in the given CSV file.\")"
   ]
  },
  {
   "cell_type": "code",
   "execution_count": null,
   "metadata": {},
   "outputs": [],
   "source": [
    "outputs = []\n",
    "NAND_lp = []\n",
    "NOR_lp = []\n",
    "\n",
    "def get_log_prob(sequence, model=\"gpt-3.5-turbo\"):\n",
    "    response = openai.Completion.create(\n",
    "        model=model,\n",
    "        prompt=sequence,\n",
    "        max_tokens=0,\n",
    "        logprobs=1,\n",
    "        echo=True\n",
    "    )\n",
    "    log_probs = [choice['logprobs']['token_logprobs'] for choice in response['choices']]\n",
    "    return sum(log_probs[0])\n",
    "\n",
    "# Scoring and comparing each set of sequences for stimuli in stimuli list\n",
    "for stimuli in stimuli_list:\n",
    "    print(stimuli['NAND'])\n",
    "    print(stimuli['NOR'])\n",
    "\n",
    "    sequences = [stimuli['NAND'], stimuli['NOR']]\n",
    "\n",
    "    # Calculate log-probabilities for each sequence\n",
    "    scores = [get_log_prob(seq) for seq in sequences]\n",
    "\n",
    "    score1, score2 = scores  # Extract scores for each sequence\n",
    "\n",
    "    print(f\"NAND: {score1} NOR: {score2}\")\n",
    "    NAND_lp.append(score1)\n",
    "    NOR_lp.append(score2)\n",
    "\n",
    "    if score1 > score2:\n",
    "        print(\"First sequence makes more sense.\")\n",
    "        outputs.append('NAND')\n",
    "    else:\n",
    "        print(\"Second sequence makes more sense.\")\n",
    "        outputs.append('NOR')"
   ]
  }
 ],
 "metadata": {
  "language_info": {
   "name": "python"
  }
 },
 "nbformat": 4,
 "nbformat_minor": 2
}
