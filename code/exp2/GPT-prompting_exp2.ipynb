{
 "cells": [
  {
   "cell_type": "code",
   "execution_count": 1,
   "metadata": {
    "colab": {
     "base_uri": "https://localhost:8080/"
    },
    "executionInfo": {
     "elapsed": 15597,
     "status": "ok",
     "timestamp": 1744747637611,
     "user": {
      "displayName": "Carson Chiem",
      "userId": "16892616782940751714"
     },
     "user_tz": 420
    },
    "id": "PhhfNArFDmPw",
    "outputId": "d2a7f1f6-798e-444f-ff3a-410d3b950cbc"
   },
   "outputs": [
    {
     "name": "stdout",
     "output_type": "stream",
     "text": [
      "Requirement already satisfied: openai in /usr/local/lib/python3.11/dist-packages (1.72.0)\n",
      "Requirement already satisfied: anyio<5,>=3.5.0 in /usr/local/lib/python3.11/dist-packages (from openai) (4.9.0)\n",
      "Requirement already satisfied: distro<2,>=1.7.0 in /usr/local/lib/python3.11/dist-packages (from openai) (1.9.0)\n",
      "Requirement already satisfied: httpx<1,>=0.23.0 in /usr/local/lib/python3.11/dist-packages (from openai) (0.28.1)\n",
      "Requirement already satisfied: jiter<1,>=0.4.0 in /usr/local/lib/python3.11/dist-packages (from openai) (0.9.0)\n",
      "Requirement already satisfied: pydantic<3,>=1.9.0 in /usr/local/lib/python3.11/dist-packages (from openai) (2.11.3)\n",
      "Requirement already satisfied: sniffio in /usr/local/lib/python3.11/dist-packages (from openai) (1.3.1)\n",
      "Requirement already satisfied: tqdm>4 in /usr/local/lib/python3.11/dist-packages (from openai) (4.67.1)\n",
      "Requirement already satisfied: typing-extensions<5,>=4.11 in /usr/local/lib/python3.11/dist-packages (from openai) (4.13.1)\n",
      "Requirement already satisfied: idna>=2.8 in /usr/local/lib/python3.11/dist-packages (from anyio<5,>=3.5.0->openai) (3.10)\n",
      "Requirement already satisfied: certifi in /usr/local/lib/python3.11/dist-packages (from httpx<1,>=0.23.0->openai) (2025.1.31)\n",
      "Requirement already satisfied: httpcore==1.* in /usr/local/lib/python3.11/dist-packages (from httpx<1,>=0.23.0->openai) (1.0.7)\n",
      "Requirement already satisfied: h11<0.15,>=0.13 in /usr/local/lib/python3.11/dist-packages (from httpcore==1.*->httpx<1,>=0.23.0->openai) (0.14.0)\n",
      "Requirement already satisfied: annotated-types>=0.6.0 in /usr/local/lib/python3.11/dist-packages (from pydantic<3,>=1.9.0->openai) (0.7.0)\n",
      "Requirement already satisfied: pydantic-core==2.33.1 in /usr/local/lib/python3.11/dist-packages (from pydantic<3,>=1.9.0->openai) (2.33.1)\n",
      "Requirement already satisfied: typing-inspection>=0.4.0 in /usr/local/lib/python3.11/dist-packages (from pydantic<3,>=1.9.0->openai) (0.4.0)\n"
     ]
    }
   ],
   "source": [
    "pip install openai"
   ]
  },
  {
   "cell_type": "code",
   "execution_count": null,
   "metadata": {
    "executionInfo": {
     "elapsed": 84,
     "status": "ok",
     "timestamp": 1744752498300,
     "user": {
      "displayName": "Carson Chiem",
      "userId": "16892616782940751714"
     },
     "user_tz": 420
    },
    "id": "hUOlem9f0qUs"
   },
   "outputs": [],
   "source": [
    "from openai import OpenAI\n",
    "import random\n",
    "import pandas as pd\n",
    "\n",
    "model_id = \"gpt-4o\"\n",
    "# model_id = \"gpt-4o-mini\"\n",
    "# model_id = \"gpt-3.5-turbo\"\n",
    "\n",
    "key = \"\"\n",
    "client = OpenAI(\n",
    "    api_key = key\n",
    "\n",
    ")"
   ]
  },
  {
   "cell_type": "code",
   "execution_count": 14,
   "metadata": {
    "colab": {
     "base_uri": "https://localhost:8080/"
    },
    "executionInfo": {
     "elapsed": 167814,
     "status": "ok",
     "timestamp": 1744753445331,
     "user": {
      "displayName": "Carson Chiem",
      "userId": "16892616782940751714"
     },
     "user_tz": 420
    },
    "id": "cj1oHhQ6v6JH",
    "outputId": "d953e59a-e95f-4f86-b6dc-c3820ed5ad34"
   },
   "outputs": [
    {
     "name": "stdout",
     "output_type": "stream",
     "text": [
      "Messages generated with 41190 tokens\n",
      "Created word_task_stimuli_gpt_4o.csv.\n"
     ]
    }
   ],
   "source": [
    "# CSV path (change accordingly)\n",
    "csv_path = \"word_task_stimuli.csv\"\n",
    "total_tokens = 0\n",
    "\n",
    "# Read CSV\n",
    "df = pd.read_csv(csv_path)\n",
    "\n",
    "# creating the columns\n",
    "for col in [\"Model Response\", \"Order\"]:\n",
    "    if col not in df.columns:\n",
    "        df[col] = None  # Creates the column but leaves it empty\n",
    "\n",
    "row_num = 0\n",
    "# Calling Llama and updating responses\n",
    "for index, row in df.iterrows():\n",
    "    stimuli = row[\"Sentence\"]\n",
    "\n",
    "    response = client.chat.completions.create(\n",
    "                model=model_id,\n",
    "                messages = [\n",
    "                    {\"role\": \"system\", \"content\": \"only output the items in the list that match the criteria, in the form of a list [item_1, item_2,...] and nothing else. The items could be words, numbers, emoji sets, and full sentences. Do not include empty characters, or any words such as 'here is the list...'.\"},\n",
    "                    {\"role\": \"user\", \"content\": stimuli},\n",
    "                ])\n",
    "    gpt_answer = response.choices[0].message.content\n",
    "\n",
    "    total_tokens += response.usage.total_tokens\n",
    "\n",
    "    # Store response in the existing DataFrame\n",
    "    df.at[index, \"Model Response\"] = gpt_answer\n",
    "    row_num += 1\n",
    "    df.at[index, \"Order\"] = row_num\n",
    "\n",
    "# Save to csv\n",
    "csv_output = \"word_task_stimuli_gpt_4o.csv\"\n",
    "df.to_csv(csv_output, index=False)\n",
    "\n",
    "print(f\"Messages generated with {total_tokens} tokens\")\n",
    "print(f\"Created {csv_output}.\")"
   ]
  },
  {
   "cell_type": "code",
   "execution_count": null,
   "metadata": {
    "colab": {
     "base_uri": "https://localhost:8080/"
    },
    "executionInfo": {
     "elapsed": 3558,
     "status": "ok",
     "timestamp": 1740155265545,
     "user": {
      "displayName": "Carson Chiem",
      "userId": "16892616782940751714"
     },
     "user_tz": 480
    },
    "id": "yH4J_qejVAiN",
    "outputId": "c59afc42-b848-441d-a57e-28f6857ee318"
   },
   "outputs": [
    {
     "name": "stderr",
     "output_type": "stream",
     "text": [
      "You seem to be using the pipelines sequentially on GPU. In order to maximize efficiency please use a dataset\n"
     ]
    },
    {
     "name": "stdout",
     "output_type": "stream",
     "text": [
      "In the list of numbers: 37808945, 77758651, 07640052, 78111153, 09755522, 77524516, which numbers have the digit 8?\n",
      "[37808945, 77758651, 78111153]\n",
      "In the list of words: acidity, shuffled, occasional, rapped, cropping, funniest, which words have the letter d?\n",
      "[shuffled, cropping, occasional]\n",
      "In the list of emoji sets: {'🥺'}, {'🥺', '😭'}, {'😭'}, {'🥺', '😎'}, {'😭', '😎'}, {'😎'}, which sets have the emoji 🥺?\n",
      "['🥺'], ['🥺', '😭'], ['🥺', '😎']\n"
     ]
    }
   ],
   "source": [
    "# For easier testing without needing to create a new CSV, but doesn't result in CSV output\n",
    "# Set of examples\n",
    "statements = [\n",
    "    'In the list of numbers: 37808945, 77758651, 07640052, 78111153, 09755522, 77524516, which numbers have the digit 8?',\n",
    "    'In the list of words: acidity, shuffled, occasional, rapped, cropping, funniest, which words have the letter d?',\n",
    "    \"In the list of emoji sets: {'🥺'}, {'🥺', '😭'}, {'😭'}, {'🥺', '😎'}, {'😭', '😎'}, {'😎'}, which sets have the emoji 🥺?\"\n",
    "]\n",
    "\n",
    "# Generate sentences\n",
    "for statement in statements:\n",
    "    messages=[\n",
    "        {\"role\": \"system\", \"content\": \"only output the items in the list that match the criteria, in the form of a list [item_1, item_2,...] and nothing else\"},\n",
    "        {\"role\": \"user\", \"content\": statement},\n",
    "    ]\n",
    "    output = pipe(messages, max_new_tokens=256, pad_token_id=128001)\n",
    "    response = output[0][\"generated_text\"][-1][\"content\"]\n",
    "    print(statement)\n",
    "    print(response)"
   ]
  }
 ],
 "metadata": {
  "colab": {
   "authorship_tag": "ABX9TyMSbs5plVNOlm+pvTUgypEa",
   "provenance": [
    {
     "file_id": "1V2GP2-5T6pMocsnVV5SyZvTkFzGbUv4w",
     "timestamp": 1741811462849
    }
   ]
  },
  "kernelspec": {
   "display_name": "Python 3",
   "name": "python3"
  },
  "language_info": {
   "name": "python"
  }
 },
 "nbformat": 4,
 "nbformat_minor": 0
}
